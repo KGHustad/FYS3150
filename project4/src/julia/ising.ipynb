{
 "cells": [
  {
   "cell_type": "code",
   "execution_count": 1,
   "metadata": {},
   "outputs": [
    {
     "data": {
      "text/plain": [
       "wraparound (generic function with 1 method)"
      ]
     },
     "execution_count": 1,
     "metadata": {},
     "output_type": "execute_result"
    }
   ],
   "source": [
    "function wraparound(i, offset, len)\n",
    "  return ((len + (i-1 + offset)) % len)+1\n",
    "end"
   ]
  },
  {
   "cell_type": "code",
   "execution_count": 2,
   "metadata": {
    "collapsed": true
   },
   "outputs": [],
   "source": [
    "mutable struct Lattice\n",
    "    Spin::Array{Int8, 2}    # spin values (may be +1 or -1)\n",
    "    L::Int                  # dimension of lattice\n",
    "    Energy::Float64\n",
    "    Tot_magnetization::Int64\n",
    "    Accepted_configurations::Int64\n",
    "end"
   ]
  },
  {
   "cell_type": "code",
   "execution_count": 3,
   "metadata": {},
   "outputs": [
    {
     "data": {
      "text/plain": [
       "find_energy (generic function with 1 method)"
      ]
     },
     "execution_count": 3,
     "metadata": {},
     "output_type": "execute_result"
    }
   ],
   "source": [
    "function find_energy(lat::Lattice, J)\n",
    "    L = lat.L\n",
    "    A = lat.Spin\n",
    "    \n",
    "    E = 0\n",
    "    for i = 1:L\n",
    "        for j = 1:L\n",
    "            E += A[i,j] * A[wraparound(i, 1, L), j] # horizontal neighbour\n",
    "            E += A[i,j] * A[i, wraparound(j, 1, L)] # vertical neighbour\n",
    "        end\n",
    "    end\n",
    "    lat.Energy = -J*E\n",
    "end"
   ]
  },
  {
   "cell_type": "code",
   "execution_count": 4,
   "metadata": {},
   "outputs": [
    {
     "data": {
      "text/plain": [
       "find_tot_magnetization (generic function with 1 method)"
      ]
     },
     "execution_count": 4,
     "metadata": {},
     "output_type": "execute_result"
    }
   ],
   "source": [
    "function find_tot_magnetization(lat::Lattice)\n",
    "    L = lat.L\n",
    "    A = lat.Spin\n",
    "\n",
    "    tot_magnetization = 0\n",
    "    for i = 1:L\n",
    "        for j = 1:L\n",
    "            tot_magnetization += A[i,j]\n",
    "        end\n",
    "    end\n",
    "\n",
    "    lat.Tot_magnetization = tot_magnetization\n",
    "end"
   ]
  },
  {
   "cell_type": "code",
   "execution_count": 5,
   "metadata": {},
   "outputs": [
    {
     "data": {
      "text/plain": [
       "relative_change_of_energy (generic function with 1 method)"
      ]
     },
     "execution_count": 5,
     "metadata": {},
     "output_type": "execute_result"
    }
   ],
   "source": [
    "function relative_change_of_energy(lat::Lattice, i::Int, j::Int)\n",
    "    L = lat.L\n",
    "    A = lat.Spin\n",
    "\n",
    "    E_old_down =    A[i,j] * A[wraparound(i,1,L),  j]\n",
    "    E_old_up =      A[i,j] * A[wraparound(i,-1,L), j]\n",
    "    E_old_right =   A[i,j] * A[i, wraparound(j,1,L) ]\n",
    "    E_old_left =    A[i,j] * A[i, wraparound(j,-1,L)]\n",
    "    E_old = E_old_right + E_old_left + E_old_up + E_old_down\n",
    "\n",
    "    #=\n",
    "    the difference in energy is equal to\n",
    "            dE = -J * (E_new - E_old)\n",
    "    Since the change consists of flipping the sign of A[i][j],\n",
    "            E_new = -E_old\n",
    "    Implying\n",
    "            dE = -J * (- 2 * E_old) = 2*J*E_old\n",
    "    Since, only the relative value (scaled by a positive factor) is of\n",
    "    importance, it is sufficient to return E_old\n",
    "    =#\n",
    "    return E_old\n",
    "end"
   ]
  },
  {
   "cell_type": "code",
   "execution_count": 6,
   "metadata": {},
   "outputs": [
    {
     "data": {
      "text/plain": [
       "metropolis (generic function with 1 method)"
      ]
     },
     "execution_count": 6,
     "metadata": {},
     "output_type": "execute_result"
    }
   ],
   "source": [
    "function metropolis(lat::Lattice, sweeps::Int64, J::Float64, energies::Array{Float64}, \n",
    "    tot_magnetization::Array{Int64}, r::MersenneTwister, dE_cache::Array{Float64}, \n",
    "    save_every_nth::Int64)\n",
    "    L = lat.L\n",
    "    spin = lat.Spin\n",
    "    accepted_configurations = 0\n",
    "    \n",
    "    for sweep = 1:sweeps\n",
    "        for count = 0:L*L\n",
    "            pos_1d = rand(r, 0:L*L-1)\n",
    "            i = div(pos_1d, L) + 1\n",
    "            j = (pos_1d % L) + 1\n",
    "\n",
    "            relative_dE = relative_change_of_energy(lat, i, j)\n",
    "            dE = dE_cache[5+relative_dE]\n",
    "            ran = rand(r, Float64)\n",
    "\n",
    "            if dE > ran\n",
    "                # ACCEPT\n",
    "                spin[i,j] *= -1\n",
    "                lat.Energy += 2*J*relative_dE\n",
    "                lat.Tot_magnetization += 2*spin[i,j]\n",
    "                accepted_configurations += 1\n",
    "            end\n",
    "            \n",
    "        end\n",
    "        \n",
    "        if (sweep % save_every_nth) == 0\n",
    "            energies[div(sweep, save_every_nth)] = lat.Energy\n",
    "            tot_magnetization[div(sweep, save_every_nth)] = lat.Tot_magnetization\n",
    "        end\n",
    "    end\n",
    "\n",
    "    lat.Accepted_configurations = accepted_configurations\n",
    "end"
   ]
  },
  {
   "cell_type": "code",
   "execution_count": 7,
   "metadata": {},
   "outputs": [
    {
     "data": {
      "text/plain": [
       "solve (generic function with 1 method)"
      ]
     },
     "execution_count": 7,
     "metadata": {},
     "output_type": "execute_result"
    }
   ],
   "source": [
    "function solve(lat::Lattice, sweeps::Int64, J::Float64, T::Float64,\n",
    "    energies::Array{Float64}, tot_magnetization::Array{Int64}, save_every_nth::Int64,\n",
    "    seed)\n",
    "    beta = 1 / T\n",
    "\n",
    "    find_energy(lat, J)\n",
    "    find_tot_magnetization(lat)\n",
    "\n",
    "    dE_cache = Array{Float64}(9)\n",
    "    for i = 1:2:9\n",
    "        dE_cache[i] = exp(-beta*2*(i-4))\n",
    "    end\n",
    "\n",
    "    # create new RNG\n",
    "    r = MersenneTwister(seed)\n",
    "\n",
    "    metropolis(lat, sweeps, J, energies, tot_magnetization, r, dE_cache,\n",
    "                save_every_nth)\n",
    "end"
   ]
  },
  {
   "cell_type": "code",
   "execution_count": 8,
   "metadata": {},
   "outputs": [
    {
     "data": {
      "text/plain": [
       "bench (generic function with 1 method)"
      ]
     },
     "execution_count": 8,
     "metadata": {},
     "output_type": "execute_result"
    }
   ],
   "source": [
    "function bench()\n",
    "    J = 1.\n",
    "    T = 2.27\n",
    "\n",
    "    L = 100\n",
    "    sweeps = 1000\n",
    "\n",
    "    spin = Array{Int8, 2}(L, L)\n",
    "    for i = 1:L\n",
    "        for j = 1:L\n",
    "            spin[i,j] = 1\n",
    "        end\n",
    "    end\n",
    "    energies = Array{Float64}(sweeps+1)\n",
    "    tot_magnetization = Array{Int64}(sweeps+1)\n",
    "    save_every_nth = 1\n",
    "    seed = 0\n",
    "    lat = Lattice(spin, L, 0, 0, 0)\n",
    "    \n",
    "    solve(lat, sweeps, J, T, energies, tot_magnetization, save_every_nth, seed)\n",
    "end"
   ]
  },
  {
   "cell_type": "code",
   "execution_count": 9,
   "metadata": {},
   "outputs": [
    {
     "name": "stdout",
     "output_type": "stream",
     "text": [
      "  1.049130 seconds (40.41 k allocations: 2.203 MiB)\n"
     ]
    },
    {
     "data": {
      "text/plain": [
       "319560"
      ]
     },
     "execution_count": 9,
     "metadata": {},
     "output_type": "execute_result"
    }
   ],
   "source": [
    "@time bench()"
   ]
  }
 ],
 "metadata": {
  "kernelspec": {
   "display_name": "Julia 0.6.2",
   "language": "julia",
   "name": "julia-0.6"
  },
  "language_info": {
   "file_extension": ".jl",
   "mimetype": "application/julia",
   "name": "julia",
   "version": "0.6.2"
  }
 },
 "nbformat": 4,
 "nbformat_minor": 2
}
